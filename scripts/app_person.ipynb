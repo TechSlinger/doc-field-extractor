{
 "cells": [
  {
   "cell_type": "code",
   "execution_count": 5,
   "id": "b9d1177e",
   "metadata": {},
   "outputs": [
    {
     "data": {
      "application/vnd.jupyter.widget-view+json": {
       "model_id": "95697c1549bc4860ab75425df2038834",
       "version_major": 2,
       "version_minor": 0
      },
      "text/plain": [
       "Loading checkpoint shards:   0%|          | 0/2 [00:00<?, ?it/s]"
      ]
     },
     "metadata": {},
     "output_type": "display_data"
    },
    {
     "name": "stderr",
     "output_type": "stream",
     "text": [
      "Using a slow image processor as `use_fast` is unset and a slow processor was saved with this model. `use_fast=True` will be the default behavior in v4.52, even if the model was saved with a slow processor. This will result in minor differences in outputs. You'll still be able to use a slow processor with `use_fast=False`.\n"
     ]
    }
   ],
   "source": [
    "from transformers import Qwen2_5_VLForConditionalGeneration, AutoProcessor\n",
    "from qwen_vl_utils import process_vision_info\n",
    "import torch\n",
    "\n",
    "local_model_path = \"../model\"\n",
    "# Load model and processor from local path\n",
    "model = Qwen2_5_VLForConditionalGeneration.from_pretrained(\n",
    "    local_model_path, torch_dtype=\"auto\", device_map=\"cpu\"\n",
    ")\n",
    "processor = AutoProcessor.from_pretrained(local_model_path)"
   ]
  },
  {
   "cell_type": "code",
   "execution_count": null,
   "id": "4e10805f",
   "metadata": {},
   "outputs": [],
   "source": [
    "import matplotlib.pyplot as plt\n",
    "import fitz  # PyMuPDF\n",
    "from PIL import Image\n",
    "import numpy as np\n",
    "import pandas as pd\n",
    "import os"
   ]
  },
  {
   "cell_type": "code",
   "execution_count": null,
   "id": "a80c870d",
   "metadata": {},
   "outputs": [],
   "source": [
    "def load_and_process_files(file_paths, resize_to=(512, 512), dpi=150):\n",
    "    if isinstance(file_paths, str):\n",
    "        file_paths = [file_paths]\n",
    "\n",
    "    all_images = []\n",
    "\n",
    "    for path in file_paths:\n",
    "        ext = os.path.splitext(path)[1].lower()\n",
    "\n",
    "        if ext == '.pdf':\n",
    "            # Handle PDF pages\n",
    "            doc = fitz.open(path)\n",
    "            for page_number in range(len(doc)):\n",
    "                page = doc[page_number]\n",
    "                pix = page.get_pixmap(dpi=dpi)\n",
    "                img = Image.frombytes(\"RGB\", [pix.width, pix.height], pix.samples)\n",
    "                #processed = crop_non_white_area(img)\n",
    "                processed = img\n",
    "                if processed and resize_to:\n",
    "                    processed = processed.resize(resize_to)\n",
    "                if processed:\n",
    "                    all_images.append(processed)\n",
    "        else:\n",
    "            # Handle image file\n",
    "            img = Image.open(path).convert(\"RGB\")\n",
    "            processed = img\n",
    "            #processed = crop_non_white_area(img)\n",
    "            if processed and resize_to:\n",
    "                processed = processed.resize(resize_to)\n",
    "            if processed:\n",
    "                all_images.append(processed)\n",
    "\n",
    "    return all_images\n",
    "\n",
    "\n"
   ]
  },
  {
   "cell_type": "code",
   "execution_count": 8,
   "id": "4d01ff96",
   "metadata": {},
   "outputs": [],
   "source": [
    "def get_message(image_paths, prompt):\n",
    "    messages = [\n",
    "    {\n",
    "        \"role\": \"user\",\n",
    "        \"content\": [\n",
    "            # Add each image entry\n",
    "            *[\n",
    "                {\n",
    "                    \"type\": \"image\",\n",
    "                    \"image\": path,\n",
    "                } for path in image_paths\n",
    "            ],\n",
    "            # Add the final instruction\n",
    "            {\n",
    "                \"type\": \"text\",\n",
    "                \"text\": prompt,\n",
    "            }\n",
    "        ],\n",
    "    }\n",
    "   ]\n",
    "    return messages\n",
    "   "
   ]
  },
  {
   "cell_type": "code",
   "execution_count": 9,
   "id": "7129b11a",
   "metadata": {},
   "outputs": [],
   "source": [
    "def get_output_text(messages):\n",
    "    text = processor.apply_chat_template(\n",
    "        messages, tokenize=False, add_generation_prompt=True\n",
    "    )\n",
    "    image_inputs, video_inputs = process_vision_info(messages)\n",
    "    inputs = processor(\n",
    "        text=[text],\n",
    "        images=image_inputs,\n",
    "        videos=video_inputs,\n",
    "        padding=True,\n",
    "        return_tensors=\"pt\",\n",
    "    )\n",
    "    with torch.no_grad():\n",
    "        generated_ids = model.generate(**inputs, max_new_tokens=180)\n",
    "    generated_ids_trimmed = [\n",
    "        out_ids[len(in_ids) :] for in_ids, out_ids in zip(inputs.input_ids, generated_ids)\n",
    "    ]\n",
    "    output_text = processor.batch_decode(\n",
    "        generated_ids_trimmed, skip_special_tokens=True, clean_up_tokenization_spaces=True\n",
    "    )\n",
    "    return output_text\n"
   ]
  },
  {
   "cell_type": "code",
   "execution_count": 10,
   "id": "6a3d0ba3",
   "metadata": {},
   "outputs": [],
   "source": [
    "import re\n",
    "\n",
    "def get_data_from_output_text(output_text):\n",
    "    # Extract the string from the list\n",
    "    text = output_text[0]\n",
    "\n",
    "    # Initialize dictionary\n",
    "    data = {}\n",
    "    for line in text.split('\\n'):\n",
    "        line = line.strip()\n",
    "\n",
    "        if ':' in line:\n",
    "            raw_key, value = line.split(':', 1)\n",
    "            value = value.strip()\n",
    "\n",
    "            # Clean key: remove everything before the first letter and after the last letter\n",
    "            cleaned_key = re.sub(r'^[^a-zA-ZÀ-ÿ]+', '', raw_key)        # Remove prefix\n",
    "            cleaned_key = re.sub(r'[^a-zA-ZÀ-ÿ\\s]+$', '', cleaned_key)  # Remove suffix\n",
    "            cleaned_key = cleaned_key.strip()\n",
    "\n",
    "            if cleaned_key and value:\n",
    "                data[cleaned_key] = value\n",
    "\n",
    "    return data\n"
   ]
  },
  {
   "cell_type": "code",
   "execution_count": null,
   "id": "b2af999c",
   "metadata": {},
   "outputs": [
    {
     "name": "stdout",
     "output_type": "stream",
     "text": [
      "True\n"
     ]
    }
   ],
   "source": [
    "def is_scanned_pdf(file_path):\n",
    "    with fitz.open(file_path) as doc:\n",
    "        for page in doc:\n",
    "            if page.get_text().strip():\n",
    "                return False  # Contains text → not scanned\n",
    "    return True  # No text → likely scanned\n",
    "path = \"../images/assur_B-07.png\"\n",
    "print(is_scanned_pdf(path)) "
   ]
  },
  {
   "cell_type": "code",
   "execution_count": 11,
   "id": "b186f7b0",
   "metadata": {},
   "outputs": [
    {
     "name": "stdout",
     "output_type": "stream",
     "text": [
      "['1']\n"
     ]
    }
   ],
   "source": [
    "FA_path = [\n",
    "    \"../images/FA_without.png\",\n",
    "   ]\n",
    "\n",
    "FA_prompt_classify = \"If the table in this image contains values like dates, words, or numbers — respond with 1. If it contains only empty cells, placeholders or just a word (NEANT) writted with a grop of asterisks, respond with 0\"\n",
    "message_classify = get_message(FA_path, FA_prompt_classify)\n",
    "FA_class = get_output_text(message_classify)\n",
    "print(FA_class)\n"
   ]
  },
  {
   "cell_type": "code",
   "execution_count": null,
   "id": "70b4b08e",
   "metadata": {},
   "outputs": [],
   "source": [
    "FA_path = [\"../Qwen2.5-VL-3B-Instruct/images/FA.jpg\",]\n",
    "FA_prompt = \"From this image, Extract these informations: Prénom, Nom, CIN, date début validité, date fin validité \"\n",
    "message_FA = get_message(FA_path, FA_prompt)\n",
    "if FA_class[0] == \"1\":\n",
    "    print(\"Warning: FA may be noot clean\")\n",
    "else:\n",
    "    print(\"FA is clean\")\n",
    "FA_infos = get_output_text(message_FA)\n",
    "print(FA_infos)"
   ]
  },
  {
   "cell_type": "code",
   "execution_count": 13,
   "id": "b9cd3c47",
   "metadata": {},
   "outputs": [
    {
     "ename": "NameError",
     "evalue": "name 'FA_infos' is not defined",
     "output_type": "error",
     "traceback": [
      "\u001b[31m---------------------------------------------------------------------------\u001b[39m",
      "\u001b[31mNameError\u001b[39m                                 Traceback (most recent call last)",
      "\u001b[36mCell\u001b[39m\u001b[36m \u001b[39m\u001b[32mIn[13]\u001b[39m\u001b[32m, line 1\u001b[39m\n\u001b[32m----> \u001b[39m\u001b[32m1\u001b[39m FA_data = get_data_from_output_text(\u001b[43mFA_infos\u001b[49m)\n\u001b[32m      2\u001b[39m \u001b[38;5;28mprint\u001b[39m(FA_data)\n",
      "\u001b[31mNameError\u001b[39m: name 'FA_infos' is not defined"
     ]
    }
   ],
   "source": [
    "FA_data = get_data_from_output_text(FA_infos)\n",
    "print(FA_data)"
   ]
  },
  {
   "cell_type": "code",
   "execution_count": null,
   "id": "805b6c74",
   "metadata": {},
   "outputs": [],
   "source": [
    "image_paths = ['extracted_images\\\\cin_recto.png', 'extracted_images\\\\cin_verso.png']\n",
    "cin_prompt = \"From these images, Extract these informations : prénom, Nom, date de naissance, Nationalité, date d'expiration de la carte, CIN(numéro de la carte nationale), Sexe(M ou F)\"\n",
    "message_cin = get_message(image_paths, cin_prompt)"
   ]
  },
  {
   "cell_type": "code",
   "execution_count": 32,
   "id": "732ad4b1",
   "metadata": {},
   "outputs": [
    {
     "name": "stdout",
     "output_type": "stream",
     "text": [
      "Voici les informations extraites des documents :\n",
      "\n",
      "Prénom : SOUFIANE\n",
      "Nom : LAALIAOUI\n",
      "Date de naissance : 07.03.2001\n",
      "Nationalité : Marocaine\n",
      "Date d'expiration de la carte : 02.04.2029\n",
      "CIN (numéro de la carte nationale) : W451299\n",
      "Adresse : DR OLD ALI LAMRAZIG SIDI EL AIDI SETTAT\n",
      "Sexe : M (Masculin)\n"
     ]
    }
   ],
   "source": [
    "cin_output = get_output_text(message_cin)\n",
    "for line in cin_output:\n",
    "    print(line)\n",
    "cin_data = get_data_from_output_text(cin_output)"
   ]
  },
  {
   "cell_type": "code",
   "execution_count": null,
   "id": "a97ac8c8",
   "metadata": {},
   "outputs": [],
   "source": [
    "if cin_data and FA_data:\n",
    "    if (\n",
    "        cin_data.get(\"Prénom\") != FA_data.get(\"Prénom\") and\n",
    "        cin_data.get(\"Nom de la famille\") != FA_data.get(\"Nom de la famille\") or\n",
    "        cin_data.get(\"CIN\") != FA_data.get(\"CIN\")\n",
    "    ):\n",
    "        print(\"Documents are mismatched.\")\n",
    "    else:\n",
    "        # Combine the two dictionaries\n",
    "        combined_data = {**cin_data, **FA_data}\n",
    "        print(\"Documents match. Combined data:\")\n",
    "        print(combined_data)\n",
    "\n",
    "        # Save the combined data to an Excel file\n",
    "        df = pd.DataFrame([combined_data])  # wrap in list to get a row\n",
    "        df.to_excel(\"cin_FA_infos.xlsx\", index=False)\n",
    "else:\n",
    "    print(\"One of the dictionaries is empty.\")\n"
   ]
  }
 ],
 "metadata": {
  "kernelspec": {
   "display_name": "qwen-local-ocr",
   "language": "python",
   "name": "qwen-local-ocr"
  },
  "language_info": {
   "codemirror_mode": {
    "name": "ipython",
    "version": 3
   },
   "file_extension": ".py",
   "mimetype": "text/x-python",
   "name": "python",
   "nbconvert_exporter": "python",
   "pygments_lexer": "ipython3",
   "version": "3.13.3"
  }
 },
 "nbformat": 4,
 "nbformat_minor": 5
}
