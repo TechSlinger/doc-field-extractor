{
 "cells": [
  {
   "cell_type": "code",
   "execution_count": 8,
   "id": "b9d1177e",
   "metadata": {},
   "outputs": [
    {
     "data": {
      "application/vnd.jupyter.widget-view+json": {
       "model_id": "98e190bdd3454a1f8d934e976e4352f6",
       "version_major": 2,
       "version_minor": 0
      },
      "text/plain": [
       "Loading checkpoint shards:   0%|          | 0/5 [00:00<?, ?it/s]"
      ]
     },
     "metadata": {},
     "output_type": "display_data"
    },
    {
     "name": "stderr",
     "output_type": "stream",
     "text": [
      "Using a slow image processor as `use_fast` is unset and a slow processor was saved with this model. `use_fast=True` will be the default behavior in v4.52, even if the model was saved with a slow processor. This will result in minor differences in outputs. You'll still be able to use a slow processor with `use_fast=False`.\n"
     ]
    }
   ],
   "source": [
    "from transformers import Qwen2_5_VLForConditionalGeneration, AutoProcessor\n",
    "from qwen_vl_utils import process_vision_info\n",
    "import torch\n",
    "import matplotlib.pyplot as plt\n",
    "import fitz  # PyMuPDF\n",
    "from PIL import Image\n",
    "import numpy as np\n",
    "import pandas as pd\n",
    "import os\n",
    "\n",
    "local_model_path = \"../model/\"\n",
    "# Load model and processor from local path\n",
    "model = Qwen2_5_VLForConditionalGeneration.from_pretrained(\n",
    "    local_model_path, torch_dtype=\"auto\", device_map=\"cpu\", local_files_only=True\n",
    ")\n",
    "processor = AutoProcessor.from_pretrained(local_model_path)"
   ]
  },
  {
   "cell_type": "code",
   "execution_count": 12,
   "id": "a80c870d",
   "metadata": {},
   "outputs": [],
   "source": [
    "def load_and_process_files(file_paths, resize_to=(512, 512), dpi=150):\n",
    "    if isinstance(file_paths, str):\n",
    "        file_paths = [file_paths]\n",
    "\n",
    "    all_images = []\n",
    "\n",
    "    for path in file_paths:\n",
    "        ext = os.path.splitext(path)[1].lower()\n",
    "\n",
    "        if ext == '.pdf':\n",
    "            # Handle PDF pages\n",
    "            doc = fitz.open(path)\n",
    "            for page_number in range(len(doc)):\n",
    "                page = doc[page_number]\n",
    "                pix = page.get_pixmap(dpi=dpi)\n",
    "                img = Image.frombytes(\"RGB\", [pix.width, pix.height], pix.samples)\n",
    "                if img and resize_to:\n",
    "                    processed = img.resize(resize_to)\n",
    "                if processed:\n",
    "                    all_images.append(processed)\n",
    "        else:\n",
    "            # Handle image file\n",
    "            img = Image.open(path).convert(\"RGB\")\n",
    "            if img and resize_to:\n",
    "                processed = img.resize(resize_to)\n",
    "            if processed:\n",
    "                all_images.append(processed)\n",
    "\n",
    "    return all_images\n",
    "\n",
    "\n"
   ]
  },
  {
   "cell_type": "code",
   "execution_count": 13,
   "id": "4d01ff96",
   "metadata": {},
   "outputs": [],
   "source": [
    "def get_message(image_paths, prompt):\n",
    "    messages = [\n",
    "    {\n",
    "        \"role\": \"user\",\n",
    "        \"content\": [\n",
    "            # Add each image entry\n",
    "            *[\n",
    "                {\n",
    "                    \"type\": \"image\",\n",
    "                    \"image\": path,\n",
    "                } for path in image_paths\n",
    "            ],\n",
    "            # Add the final instruction\n",
    "            {\n",
    "                \"type\": \"text\",\n",
    "                \"text\": prompt,\n",
    "            }\n",
    "        ],\n",
    "    }\n",
    "   ]\n",
    "    return messages"
   ]
  },
  {
   "cell_type": "code",
   "execution_count": 14,
   "id": "7129b11a",
   "metadata": {},
   "outputs": [],
   "source": [
    "def get_output_text(messages):\n",
    "    text = processor.apply_chat_template(\n",
    "        messages, tokenize=False, add_generation_prompt=True\n",
    "    )\n",
    "    image_inputs, video_inputs = process_vision_info(messages)\n",
    "    inputs = processor(\n",
    "        text=[text],\n",
    "        images=image_inputs,\n",
    "        videos=video_inputs,\n",
    "        padding=True,\n",
    "        return_tensors=\"pt\",\n",
    "    )\n",
    "    with torch.no_grad():\n",
    "        generated_ids = model.generate(**inputs, max_new_tokens=100)\n",
    "    generated_ids_trimmed = [\n",
    "        out_ids[len(in_ids) :] for in_ids, out_ids in zip(inputs.input_ids, generated_ids)\n",
    "    ]\n",
    "    output_text = processor.batch_decode(\n",
    "        generated_ids_trimmed, skip_special_tokens=True, clean_up_tokenization_spaces=True\n",
    "    )\n",
    "    return output_text\n"
   ]
  },
  {
   "cell_type": "code",
   "execution_count": 15,
   "id": "6a3d0ba3",
   "metadata": {},
   "outputs": [],
   "source": [
    "import re\n",
    "\n",
    "def get_data_from_output_text(output_text):\n",
    "    # Extract the string from the list\n",
    "    text = output_text[0]\n",
    "\n",
    "    # Initialize dictionary\n",
    "    data = {}\n",
    "    for line in text.split('\\n'):\n",
    "        line = line.strip()\n",
    "\n",
    "        if ':' in line:\n",
    "            raw_key, value = line.split(':', 1)\n",
    "            value = value.strip()\n",
    "\n",
    "            # Clean key: remove everything before the first letter and after the last letter\n",
    "            cleaned_key = re.sub(r'^[^a-zA-ZÀ-ÿ]+', '', raw_key)        # Remove prefix\n",
    "            cleaned_key = re.sub(r'[^a-zA-ZÀ-ÿ\\s]+$', '', cleaned_key)  # Remove suffix\n",
    "            cleaned_key = cleaned_key.strip()\n",
    "\n",
    "            if cleaned_key and value:\n",
    "                data[cleaned_key] = value\n",
    "\n",
    "    return data\n"
   ]
  },
  {
   "cell_type": "code",
   "execution_count": null,
   "id": "b186f7b0",
   "metadata": {},
   "outputs": [],
   "source": [
    "grise_path = [\n",
    "    \"../images/grise_vehicule.jpg\",\n",
    "   ]\n",
    "\n",
    "grise_prompt = \"From this image, Extract these informations: Numéro d'immatriculation, Propriétaire, Fin de validité, P.T.A.C.  Return in JSON.\"\n",
    "message_grise = get_message(grise_path, grise_prompt)\n",
    "grise_infos = get_output_text(message_grise)\n",
    "print(grise_infos)\n"
   ]
  },
  {
   "cell_type": "code",
   "execution_count": null,
   "id": "4e67afa3",
   "metadata": {},
   "outputs": [
    {
     "name": "stdout",
     "output_type": "stream",
     "text": [
      "[\"Here are the extracted informations from the image:\\n\\n- **Nom**: STF TOP AUTO\\n- **N° d'immatriculation**: 4913\\n- **PERIODE DE GARANTIE**: JANVIER 2025 - DÉCEMBRE 2025\"]\n"
     ]
    }
   ],
   "source": [
    "assurance_path = [\n",
    "    \"../images/assurance_vehicule.jpg\",\n",
    "   ]\n",
    "\n",
    "assurance_prompt = \"\"\"\n",
    "    From these images, extract the following informations:\n",
    "    Numéro d'immatriculation (matricule)\n",
    "    Période de garantie\n",
    "    Nom\n",
    "    Marque et type\n",
    "    Important: The 'matricule' follows this format: a sequence of digits, followed by a single uppercase letter, enclosed between two hyphens (e.g., 123-A-456).\n",
    "    \"\"\"\n",
    "message_assurance = get_message(assurance_path, assurance_prompt)\n",
    "assurance_infos = get_output_text(message_assurance)\n",
    "print(assurance_infos)\n"
   ]
  },
  {
   "cell_type": "code",
   "execution_count": 8,
   "id": "9589c5b5",
   "metadata": {},
   "outputs": [
    {
     "data": {
      "text/plain": [
       "{'Nom': 'STF TOP AUTO',\n",
       " \"N° d'immatriculation\": '4913',\n",
       " 'PERIODE DE GARANTIE': 'JANVIER 2025 - DÉCEMBRE 2025'}"
      ]
     },
     "execution_count": 8,
     "metadata": {},
     "output_type": "execute_result"
    }
   ],
   "source": [
    "get_data_from_output_text(assurance_infos)"
   ]
  },
  {
   "cell_type": "code",
   "execution_count": null,
   "id": "caccefdf",
   "metadata": {},
   "outputs": [],
   "source": [
    "vignite_path = [\n",
    "    \"../images/vignite_vehicule.jpg\",\n",
    "   ]\n",
    "\n",
    "vignite_prompt = \"\"\"\n",
    "    From these images, extract the following information:\n",
    "    - DATE DU CONTROLE\n",
    "    - DATE DE VALIDITE\n",
    "    - Numéro d'immatriculation\n",
    "    - Propriétaire\n",
    "    Important: The 'matricule' follows this format: a sequence of digits, followed by a single uppercase letter, enclosed between two hyphens (e.g., 123-A-456).\n",
    "    The Arabic letter is part of the Arabic alphabet and not a number. It must be one of the following:\n",
    "     أ, ب, ت, ث, ج, ح, خ, د, ذ, ر, ز, س, ش, ص, ض, ط, ظ, ع, غ, ف, ق, ك, ل, م, ن, ه, و, ي\n",
    "    \"\"\"\n",
    "message_vignite = get_message(vignite_path, vignite_prompt)\n",
    "vignite_infos = get_output_text(message_vignite)\n",
    "print(vignite_infos)\n"
   ]
  },
  {
   "cell_type": "code",
   "execution_count": null,
   "id": "65dae38d",
   "metadata": {},
   "outputs": [],
   "source": []
  },
  {
   "cell_type": "code",
   "execution_count": null,
   "id": "9e27a327",
   "metadata": {},
   "outputs": [],
   "source": [
    "VT_path = [\n",
    "    \"../images/VT_vehicule.jpg\",\n",
    "   ]\n",
    "\n",
    "VT_prompt = \"From this image, Extract these informations: DATE DU CONTROLE, Immatriculation, PROPRIETAIRE. Return in JSON.\"\n",
    "message_VT = get_message(VT_path, VT_prompt)\n",
    "VT_infos = get_output_text(message_VT)\n",
    "print(VT_infos)"
   ]
  },
  {
   "cell_type": "code",
   "execution_count": null,
   "id": "c3b8af6a",
   "metadata": {},
   "outputs": [],
   "source": [
    "circulation_path = [\n",
    "    \"../Qwen2.5-VL-3B-Instruct/images/autorisa_circ_vehicule.jpg\",\n",
    "   ]\n",
    "\n",
    "circulation_prompt = \"From this image, Extract these informations: DATE DU CONTROLE, Immatriculation, PROPRIETAIRE. Return in JSON.\"\n",
    "message_circulation = get_message(circulation_path, circulation_prompt)\n",
    "circulation_infos = get_output_text(message_circulation)\n",
    "print(circulation_infos)"
   ]
  }
 ],
 "metadata": {
  "kernelspec": {
   "display_name": "qwen-local-ocr",
   "language": "python",
   "name": "qwen-local-ocr"
  },
  "language_info": {
   "codemirror_mode": {
    "name": "ipython",
    "version": 3
   },
   "file_extension": ".py",
   "mimetype": "text/x-python",
   "name": "python",
   "nbconvert_exporter": "python",
   "pygments_lexer": "ipython3",
   "version": "3.13.3"
  }
 },
 "nbformat": 4,
 "nbformat_minor": 5
}
